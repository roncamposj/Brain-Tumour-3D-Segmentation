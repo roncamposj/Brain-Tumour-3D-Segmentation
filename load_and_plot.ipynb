{
 "cells": [
  {
   "cell_type": "code",
   "execution_count": 1,
   "metadata": {},
   "outputs": [],
   "source": [
    "import numpy as np\n",
    "import pandas as pd"
   ]
  },
  {
   "cell_type": "code",
   "execution_count": 2,
   "metadata": {},
   "outputs": [],
   "source": [
    "scores = np.load('metrics.npz')"
   ]
  },
  {
   "cell_type": "code",
   "execution_count": 3,
   "metadata": {},
   "outputs": [],
   "source": [
    "dice_5fold = np.round(scores['dice_5fold'], 4)\n",
    "dice_tc_5fold = np.round(scores['dice_tc_5fold'], 4)\n",
    "dice_et_5fold = np.round(scores['dice_et_5fold'], 4)\n",
    "dice_wt_5fold = np.round(scores['dice_wt_5fold'], 4)\n",
    "hd_5fold = np.round(scores['hd_5fold'], 4)"
   ]
  },
  {
   "cell_type": "code",
   "execution_count": 4,
   "metadata": {},
   "outputs": [],
   "source": [
    "data = {'Dice': dice_5fold, 'Dice TC': dice_tc_5fold, 'Dice ET': dice_et_5fold, 'Dice WT': dice_wt_5fold, 'Hausdorff Distance': hd_5fold}"
   ]
  },
  {
   "cell_type": "code",
   "execution_count": 5,
   "metadata": {},
   "outputs": [
    {
     "data": {
      "text/html": [
       "<div>\n",
       "<style scoped>\n",
       "    .dataframe tbody tr th:only-of-type {\n",
       "        vertical-align: middle;\n",
       "    }\n",
       "\n",
       "    .dataframe tbody tr th {\n",
       "        vertical-align: top;\n",
       "    }\n",
       "\n",
       "    .dataframe thead th {\n",
       "        text-align: right;\n",
       "    }\n",
       "</style>\n",
       "<table border=\"1\" class=\"dataframe\">\n",
       "  <thead>\n",
       "    <tr style=\"text-align: right;\">\n",
       "      <th></th>\n",
       "      <th>Dice</th>\n",
       "      <th>Dice TC</th>\n",
       "      <th>Dice ET</th>\n",
       "      <th>Dice WT</th>\n",
       "      <th>Hausdorff Distance</th>\n",
       "    </tr>\n",
       "  </thead>\n",
       "  <tbody>\n",
       "    <tr>\n",
       "      <th>0</th>\n",
       "      <td>0.8336</td>\n",
       "      <td>0.8153</td>\n",
       "      <td>0.7850</td>\n",
       "      <td>0.9009</td>\n",
       "      <td>11.4455</td>\n",
       "    </tr>\n",
       "    <tr>\n",
       "      <th>1</th>\n",
       "      <td>0.8374</td>\n",
       "      <td>0.8150</td>\n",
       "      <td>0.7911</td>\n",
       "      <td>0.9061</td>\n",
       "      <td>11.5758</td>\n",
       "    </tr>\n",
       "    <tr>\n",
       "      <th>2</th>\n",
       "      <td>0.8454</td>\n",
       "      <td>0.8313</td>\n",
       "      <td>0.7992</td>\n",
       "      <td>0.9064</td>\n",
       "      <td>12.2474</td>\n",
       "    </tr>\n",
       "    <tr>\n",
       "      <th>3</th>\n",
       "      <td>0.8462</td>\n",
       "      <td>0.8357</td>\n",
       "      <td>0.7982</td>\n",
       "      <td>0.9051</td>\n",
       "      <td>12.2474</td>\n",
       "    </tr>\n",
       "    <tr>\n",
       "      <th>4</th>\n",
       "      <td>0.8452</td>\n",
       "      <td>0.8326</td>\n",
       "      <td>0.7999</td>\n",
       "      <td>0.9043</td>\n",
       "      <td>12.2066</td>\n",
       "    </tr>\n",
       "  </tbody>\n",
       "</table>\n",
       "</div>"
      ],
      "text/plain": [
       "     Dice  Dice TC  Dice ET  Dice WT  Hausdorff Distance\n",
       "0  0.8336   0.8153   0.7850   0.9009             11.4455\n",
       "1  0.8374   0.8150   0.7911   0.9061             11.5758\n",
       "2  0.8454   0.8313   0.7992   0.9064             12.2474\n",
       "3  0.8462   0.8357   0.7982   0.9051             12.2474\n",
       "4  0.8452   0.8326   0.7999   0.9043             12.2066"
      ]
     },
     "execution_count": 5,
     "metadata": {},
     "output_type": "execute_result"
    }
   ],
   "source": [
    "df = pd.DataFrame(data)\n",
    "df"
   ]
  },
  {
   "cell_type": "code",
   "execution_count": 7,
   "metadata": {},
   "outputs": [
    {
     "data": {
      "text/plain": [
       "0.005102783554100626"
      ]
     },
     "execution_count": 7,
     "metadata": {},
     "output_type": "execute_result"
    }
   ],
   "source": [
    "dice_tc_5fold.std()"
   ]
  },
  {
   "cell_type": "code",
   "execution_count": 37,
   "metadata": {},
   "outputs": [],
   "source": [
    "import json\n",
    "import matplotlib.pyplot as plt\n",
    "\n",
    "with open('runs_Apr17_16-09-47_evc7.json') as f:\n",
    "    data = json.load(f)\n",
    "\n",
    "data = np.array(data)"
   ]
  },
  {
   "cell_type": "code",
   "execution_count": 38,
   "metadata": {},
   "outputs": [
    {
     "data": {
      "image/png": "[encoded data removed]",
      "text/plain": [
       "<Figure size 640x480 with 1 Axes>"
      ]
     },
     "metadata": {},
     "output_type": "display_data"
    }
   ],
   "source": [
    "def plotgraphs(data, ylab):\n",
    "    data = np.array(data)\n",
    "\n",
    "    plt.plot(data[:,1],data[:,2],'-',c='b')\n",
    "    plt.xlabel('Epoch')\n",
    "    plt.ylabel(ylab)\n",
    "    plt.show()\n",
    "\n",
    "plotgraphs(data, 'Dice Loss')"
   ]
  },
  {
   "cell_type": "code",
   "execution_count": null,
   "metadata": {},
   "outputs": [],
   "source": []
  }
 ],
 "metadata": {
  "kernelspec": {
   "display_name": "med_env",
   "language": "python",
   "name": "python3"
  },
  "language_info": {
   "codemirror_mode": {
    "name": "ipython",
    "version": 3
   },
   "file_extension": ".py",
   "mimetype": "text/x-python",
   "name": "python",
   "nbconvert_exporter": "python",
   "pygments_lexer": "ipython3",
   "version": "3.10.6"
  },
  "orig_nbformat": 4
 },
 "nbformat": 4,
 "nbformat_minor": 2
}
